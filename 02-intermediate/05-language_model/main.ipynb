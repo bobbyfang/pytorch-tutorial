{
 "cells": [
  {
   "cell_type": "code",
   "execution_count": 1,
   "metadata": {},
   "outputs": [],
   "source": [
    "# Some part of the code was referenced from below.\n",
    "# https://github.com/pytorch/examples/tree/master/word_language_model\n",
    "import torch\n",
    "import torch.nn as nn\n",
    "import numpy as np\n",
    "from torch.nn.utils import clip_grad_norm_\n",
    "from data_utils import Dictionary, Corpus"
   ]
  },
  {
   "cell_type": "code",
   "execution_count": 2,
   "metadata": {},
   "outputs": [],
   "source": [
    "# Device configuration\n",
    "device = torch.device('cuda' if torch.cuda.is_available() else 'cpu')"
   ]
  },
  {
   "cell_type": "code",
   "execution_count": 3,
   "metadata": {},
   "outputs": [],
   "source": [
    "# Hyper-parameters\n",
    "embed_size = 128\n",
    "hidden_size = 1024\n",
    "num_layers = 1\n",
    "num_epochs = 5\n",
    "num_samples = 1000  # number of words to be sampled\n",
    "batch_size = 20\n",
    "seq_length = 30\n",
    "learning_rate = 0.002"
   ]
  },
  {
   "cell_type": "code",
   "execution_count": 4,
   "metadata": {},
   "outputs": [],
   "source": [
    "# Load \"Penn Treebank\" dataset\n",
    "corpus = Corpus()\n",
    "ids = corpus.get_data('data/train.txt', batch_size)\n",
    "vocab_size = len(corpus.dictionary)\n",
    "num_batches = ids.size(1) // seq_length"
   ]
  },
  {
   "cell_type": "code",
   "execution_count": 7,
   "metadata": {},
   "outputs": [],
   "source": [
    "# RNN based language model\n",
    "class RNNLM(nn.Module):\n",
    "    def __init__(self, vocab_size, embed_size, hidden_size, num_layers):\n",
    "        super(RNNLM, self).__init__()\n",
    "        self.embed = nn.Embedding(vocab_size, embed_size)\n",
    "        self.lstm = nn.LSTM(embed_size, hidden_size, num_layers, batch_first=True)\n",
    "        self.linear = nn.Linear(hidden_size, vocab_size)\n",
    "        \n",
    "    def forward(self, x, h):\n",
    "        # Embed word ids to vectors\n",
    "        x = self.embed(x)\n",
    "        \n",
    "        # Forward propagate LSTM\n",
    "        out, (h, c) = self.lstm(x, h)\n",
    "        \n",
    "        # Reshape output to (batch_size*sequence_length, hidden_size)\n",
    "        out = out.reshape(out.size(0)*out.size(1), out.size(2))\n",
    "        \n",
    "        # Decode hidden states of all time steps\n",
    "        out = self.linear(out)\n",
    "        return out, (h, c)"
   ]
  },
  {
   "cell_type": "code",
   "execution_count": 8,
   "metadata": {},
   "outputs": [],
   "source": [
    "model = RNNLM(vocab_size, embed_size, hidden_size, num_layers).to(device)\n",
    "\n",
    "# Loss and optimizer\n",
    "criterion = nn.CrossEntropyLoss()\n",
    "optimizer = torch.optim.Adam(model.parameters(), lr=learning_rate)"
   ]
  },
  {
   "cell_type": "code",
   "execution_count": 9,
   "metadata": {},
   "outputs": [],
   "source": [
    "# Truncated backpropagation\n",
    "def detach(states):\n",
    "    return [state.detach() for state in states]"
   ]
  },
  {
   "cell_type": "code",
   "execution_count": 11,
   "metadata": {},
   "outputs": [
    {
     "name": "stdout",
     "output_type": "stream",
     "text": [
      "Epoch [1/5], Step [0/1549], Loss: 9.2102, Perplexity: 9998.21\n",
      "Epoch [1/5], Step [100/1549], Loss: 6.0192, Perplexity: 411.26\n",
      "Epoch [1/5], Step [200/1549], Loss: 5.9327, Perplexity: 377.17\n",
      "Epoch [1/5], Step [300/1549], Loss: 5.7564, Perplexity: 316.21\n",
      "Epoch [1/5], Step [400/1549], Loss: 5.6436, Perplexity: 282.47\n",
      "Epoch [1/5], Step [500/1549], Loss: 5.1256, Perplexity: 168.28\n",
      "Epoch [1/5], Step [600/1549], Loss: 5.2027, Perplexity: 181.77\n",
      "Epoch [1/5], Step [700/1549], Loss: 5.3540, Perplexity: 211.44\n",
      "Epoch [1/5], Step [800/1549], Loss: 5.1484, Perplexity: 172.15\n",
      "Epoch [1/5], Step [900/1549], Loss: 5.1248, Perplexity: 168.13\n",
      "Epoch [1/5], Step [1000/1549], Loss: 5.1213, Perplexity: 167.55\n",
      "Epoch [1/5], Step [1100/1549], Loss: 5.3443, Perplexity: 209.41\n",
      "Epoch [1/5], Step [1200/1549], Loss: 5.1668, Perplexity: 175.35\n",
      "Epoch [1/5], Step [1300/1549], Loss: 5.1043, Perplexity: 164.73\n",
      "Epoch [1/5], Step [1400/1549], Loss: 4.8183, Perplexity: 123.76\n",
      "Epoch [1/5], Step [1500/1549], Loss: 5.1302, Perplexity: 169.05\n",
      "Epoch [2/5], Step [0/1549], Loss: 5.4316, Perplexity: 228.51\n",
      "Epoch [2/5], Step [100/1549], Loss: 4.5418, Perplexity: 93.86\n",
      "Epoch [2/5], Step [200/1549], Loss: 4.7133, Perplexity: 111.42\n",
      "Epoch [2/5], Step [300/1549], Loss: 4.7095, Perplexity: 111.00\n",
      "Epoch [2/5], Step [400/1549], Loss: 4.4799, Perplexity: 88.22\n",
      "Epoch [2/5], Step [500/1549], Loss: 4.0983, Perplexity: 60.24\n",
      "Epoch [2/5], Step [600/1549], Loss: 4.4601, Perplexity: 86.50\n",
      "Epoch [2/5], Step [700/1549], Loss: 4.3685, Perplexity: 78.93\n",
      "Epoch [2/5], Step [800/1549], Loss: 4.3891, Perplexity: 80.57\n",
      "Epoch [2/5], Step [900/1549], Loss: 4.2443, Perplexity: 69.71\n",
      "Epoch [2/5], Step [1000/1549], Loss: 4.3423, Perplexity: 76.88\n",
      "Epoch [2/5], Step [1100/1549], Loss: 4.5330, Perplexity: 93.04\n",
      "Epoch [2/5], Step [1200/1549], Loss: 4.4706, Perplexity: 87.41\n",
      "Epoch [2/5], Step [1300/1549], Loss: 4.2230, Perplexity: 68.24\n",
      "Epoch [2/5], Step [1400/1549], Loss: 3.9751, Perplexity: 53.25\n",
      "Epoch [2/5], Step [1500/1549], Loss: 4.2970, Perplexity: 73.48\n",
      "Epoch [3/5], Step [0/1549], Loss: 4.4509, Perplexity: 85.70\n",
      "Epoch [3/5], Step [100/1549], Loss: 3.8143, Perplexity: 45.34\n",
      "Epoch [3/5], Step [200/1549], Loss: 4.0787, Perplexity: 59.07\n",
      "Epoch [3/5], Step [300/1549], Loss: 3.9732, Perplexity: 53.15\n",
      "Epoch [3/5], Step [400/1549], Loss: 3.7972, Perplexity: 44.58\n",
      "Epoch [3/5], Step [500/1549], Loss: 3.4253, Perplexity: 30.73\n",
      "Epoch [3/5], Step [600/1549], Loss: 3.9015, Perplexity: 49.48\n",
      "Epoch [3/5], Step [700/1549], Loss: 3.6470, Perplexity: 38.36\n",
      "Epoch [3/5], Step [800/1549], Loss: 3.7823, Perplexity: 43.92\n",
      "Epoch [3/5], Step [900/1549], Loss: 3.5348, Perplexity: 34.29\n",
      "Epoch [3/5], Step [1000/1549], Loss: 3.6190, Perplexity: 37.30\n",
      "Epoch [3/5], Step [1100/1549], Loss: 3.7729, Perplexity: 43.51\n",
      "Epoch [3/5], Step [1200/1549], Loss: 3.7440, Perplexity: 42.27\n",
      "Epoch [3/5], Step [1300/1549], Loss: 3.5209, Perplexity: 33.82\n",
      "Epoch [3/5], Step [1400/1549], Loss: 3.2218, Perplexity: 25.07\n",
      "Epoch [3/5], Step [1500/1549], Loss: 3.5947, Perplexity: 36.40\n",
      "Epoch [4/5], Step [0/1549], Loss: 6.2806, Perplexity: 534.12\n",
      "Epoch [4/5], Step [100/1549], Loss: 3.2758, Perplexity: 26.46\n",
      "Epoch [4/5], Step [200/1549], Loss: 3.5451, Perplexity: 34.64\n",
      "Epoch [4/5], Step [300/1549], Loss: 3.4249, Perplexity: 30.72\n",
      "Epoch [4/5], Step [400/1549], Loss: 3.2963, Perplexity: 27.01\n",
      "Epoch [4/5], Step [500/1549], Loss: 2.9713, Perplexity: 19.52\n",
      "Epoch [4/5], Step [600/1549], Loss: 3.4290, Perplexity: 30.85\n",
      "Epoch [4/5], Step [700/1549], Loss: 3.1152, Perplexity: 22.54\n",
      "Epoch [4/5], Step [800/1549], Loss: 3.3320, Perplexity: 28.00\n",
      "Epoch [4/5], Step [900/1549], Loss: 3.0721, Perplexity: 21.59\n",
      "Epoch [4/5], Step [1000/1549], Loss: 3.1422, Perplexity: 23.16\n",
      "Epoch [4/5], Step [1100/1549], Loss: 3.3306, Perplexity: 27.96\n",
      "Epoch [4/5], Step [1200/1549], Loss: 3.3226, Perplexity: 27.73\n",
      "Epoch [4/5], Step [1300/1549], Loss: 3.0308, Perplexity: 20.71\n",
      "Epoch [4/5], Step [1400/1549], Loss: 2.7369, Perplexity: 15.44\n",
      "Epoch [4/5], Step [1500/1549], Loss: 3.1478, Perplexity: 23.29\n",
      "Epoch [5/5], Step [0/1549], Loss: 4.0177, Perplexity: 55.57\n",
      "Epoch [5/5], Step [100/1549], Loss: 3.0316, Perplexity: 20.73\n",
      "Epoch [5/5], Step [200/1549], Loss: 3.2167, Perplexity: 24.95\n",
      "Epoch [5/5], Step [300/1549], Loss: 3.1580, Perplexity: 23.52\n",
      "Epoch [5/5], Step [400/1549], Loss: 2.9513, Perplexity: 19.13\n",
      "Epoch [5/5], Step [500/1549], Loss: 2.6537, Perplexity: 14.21\n",
      "Epoch [5/5], Step [600/1549], Loss: 3.1366, Perplexity: 23.03\n",
      "Epoch [5/5], Step [700/1549], Loss: 2.8038, Perplexity: 16.51\n",
      "Epoch [5/5], Step [800/1549], Loss: 2.9667, Perplexity: 19.43\n",
      "Epoch [5/5], Step [900/1549], Loss: 2.7355, Perplexity: 15.42\n",
      "Epoch [5/5], Step [1000/1549], Loss: 2.7749, Perplexity: 16.04\n",
      "Epoch [5/5], Step [1100/1549], Loss: 2.9837, Perplexity: 19.76\n",
      "Epoch [5/5], Step [1200/1549], Loss: 2.9378, Perplexity: 18.87\n",
      "Epoch [5/5], Step [1300/1549], Loss: 2.7647, Perplexity: 15.87\n",
      "Epoch [5/5], Step [1400/1549], Loss: 2.4382, Perplexity: 11.45\n",
      "Epoch [5/5], Step [1500/1549], Loss: 2.8407, Perplexity: 17.13\n"
     ]
    }
   ],
   "source": [
    "# Train the model\n",
    "for epoch in range(num_epochs):\n",
    "    # Set initial hidden and cell states\n",
    "    states = (torch.zeros(num_layers, batch_size, hidden_size).to(device),\n",
    "              torch.zeros(num_layers, batch_size, hidden_size).to(device))\n",
    "    \n",
    "    for i in range(0, ids.size(1) - seq_length, seq_length):\n",
    "        # Get mini-batch inputs and targets\n",
    "        inputs = ids[:, i:i+seq_length].to(device)\n",
    "        targets = ids[:, (i+1):(i+1)+seq_length].to(device)\n",
    "        \n",
    "        # Forward pass\n",
    "        states = detach(states)\n",
    "        outputs, states = model(inputs, states)\n",
    "        loss = criterion(outputs, targets.reshape(-1))\n",
    "        \n",
    "        # Backward and optimize\n",
    "        optimizer.zero_grad()\n",
    "        loss.backward()\n",
    "        clip_grad_norm_(model.parameters(), 0.5)\n",
    "        optimizer.step()\n",
    "        \n",
    "        step = (i+1) // seq_length\n",
    "        if step % 100 == 0:\n",
    "            print(f'Epoch [{epoch+1}/{num_epochs}], Step [{step}/{num_batches}], Loss: {loss.item():.4f}, Perplexity: {np.exp(loss.item()):5.2f}')"
   ]
  },
  {
   "cell_type": "code",
   "execution_count": 13,
   "metadata": {},
   "outputs": [
    {
     "name": "stdout",
     "output_type": "stream",
     "text": [
      "Sampled [100/1000] words and save to sample.txt\n",
      "Sampled [200/1000] words and save to sample.txt\n",
      "Sampled [300/1000] words and save to sample.txt\n",
      "Sampled [400/1000] words and save to sample.txt\n",
      "Sampled [500/1000] words and save to sample.txt\n",
      "Sampled [600/1000] words and save to sample.txt\n",
      "Sampled [700/1000] words and save to sample.txt\n",
      "Sampled [800/1000] words and save to sample.txt\n",
      "Sampled [900/1000] words and save to sample.txt\n",
      "Sampled [1000/1000] words and save to sample.txt\n"
     ]
    }
   ],
   "source": [
    "# Test the model\n",
    "with torch.no_grad():\n",
    "    with open('sample.txt', 'w') as f:\n",
    "        # Set initial hidden and cell states\n",
    "        state = (torch.zeros(num_layers, 1, hidden_size).to(device),\n",
    "                 torch.zeros(num_layers, 1, hidden_size).to(device))\n",
    "        \n",
    "        # Select on word id randomly\n",
    "        prob = torch.ones(vocab_size)\n",
    "        input = torch.multinomial(prob, num_samples=1).unsqueeze(1).to(device)\n",
    "        \n",
    "        for i in range(num_samples):\n",
    "            # Forward propagate RNN\n",
    "            output, state = model(input, state)\n",
    "            \n",
    "            # Sample a word id\n",
    "            prob = output.exp()\n",
    "            word_id = torch.multinomial(prob, num_samples=1).item()\n",
    "            \n",
    "            # Fill input with sampled word id for the next time step\n",
    "            input.fill_(word_id)\n",
    "            \n",
    "            # File write\n",
    "            word = corpus.dictionary.idx2word[word_id]\n",
    "            word = '\\n' if word == '<eos>' else word + ' '\n",
    "            f.write(word)\n",
    "            \n",
    "            if (i+1) % 100 == 0:\n",
    "                print(f'Sampled [{i+1}/{num_samples}] words and save to {\"sample.txt\"}')"
   ]
  },
  {
   "cell_type": "code",
   "execution_count": 14,
   "metadata": {},
   "outputs": [],
   "source": [
    "# Save the model checkpoints\n",
    "torch.save(model.state_dict(), 'model.ckpt')"
   ]
  }
 ],
 "metadata": {
  "kernelspec": {
   "display_name": ".venv",
   "language": "python",
   "name": "python3"
  },
  "language_info": {
   "codemirror_mode": {
    "name": "ipython",
    "version": 3
   },
   "file_extension": ".py",
   "mimetype": "text/x-python",
   "name": "python",
   "nbconvert_exporter": "python",
   "pygments_lexer": "ipython3",
   "version": "3.10.12"
  }
 },
 "nbformat": 4,
 "nbformat_minor": 2
}
